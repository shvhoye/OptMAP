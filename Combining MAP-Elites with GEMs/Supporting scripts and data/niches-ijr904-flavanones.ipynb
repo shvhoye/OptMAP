{
 "cells": [
  {
   "cell_type": "code",
   "execution_count": 1,
   "id": "3692d577",
   "metadata": {
    "execution": {
     "iopub.execute_input": "2022-05-26T14:45:19.848974Z",
     "iopub.status.busy": "2022-05-26T14:45:19.848596Z",
     "iopub.status.idle": "2022-05-26T14:45:19.854319Z",
     "shell.execute_reply": "2022-05-26T14:45:19.853368Z"
    },
    "executionInfo": {
     "elapsed": 237,
     "status": "ok",
     "timestamp": 1652296134626,
     "user": {
      "displayName": "Shauny Van Hoye",
      "userId": "08131758178470633449"
     },
     "user_tz": -120
    },
    "id": "o21YmGhAZJQq",
    "papermill": {
     "duration": 0.018191,
     "end_time": "2022-05-26T14:45:19.856312",
     "exception": false,
     "start_time": "2022-05-26T14:45:19.838121",
     "status": "completed"
    },
    "tags": []
   },
   "outputs": [],
   "source": [
    "# Matching genes that are knocked out to the type of metabolism they are part of to ascribe them to a specific niche\n",
    "# - Author: Shauny Van Hoye\n",
    "# - Date: 2022-05-23"
   ]
  },
  {
   "cell_type": "code",
   "execution_count": 2,
   "id": "92e57e52",
   "metadata": {
    "execution": {
     "iopub.execute_input": "2022-05-26T14:45:19.872449Z",
     "iopub.status.busy": "2022-05-26T14:45:19.871960Z",
     "iopub.status.idle": "2022-05-26T14:45:34.430356Z",
     "shell.execute_reply": "2022-05-26T14:45:34.429520Z"
    },
    "id": "WZSRKa0kaahl",
    "papermill": {
     "duration": 14.569421,
     "end_time": "2022-05-26T14:45:34.432843",
     "exception": false,
     "start_time": "2022-05-26T14:45:19.863422",
     "status": "completed"
    },
    "tags": []
   },
   "outputs": [
    {
     "name": "stdout",
     "output_type": "stream",
     "text": [
      "Collecting cobra\r\n",
      "  Downloading cobra-0.25.0-py2.py3-none-any.whl (1.2 MB)\r\n",
      "\u001b[2K     \u001b[90m━━━━━━━━━━━━━━━━━━━━━━━━━━━━━━━━━━━━━━━━\u001b[0m \u001b[32m1.2/1.2 MB\u001b[0m \u001b[31m15.9 MB/s\u001b[0m eta \u001b[36m0:00:00\u001b[0m\r\n",
      "\u001b[?25hRequirement already satisfied: future in /opt/conda/lib/python3.7/site-packages (from cobra) (0.18.2)\r\n",
      "Requirement already satisfied: rich>=8.0 in /opt/conda/lib/python3.7/site-packages (from cobra) (12.2.0)\r\n",
      "Collecting httpx~=0.14\r\n",
      "  Downloading httpx-0.23.0-py3-none-any.whl (84 kB)\r\n",
      "\u001b[2K     \u001b[90m━━━━━━━━━━━━━━━━━━━━━━━━━━━━━━━━━━━━━━━━\u001b[0m \u001b[32m84.8/84.8 KB\u001b[0m \u001b[31m6.1 MB/s\u001b[0m eta \u001b[36m0:00:00\u001b[0m\r\n",
      "\u001b[?25hCollecting diskcache~=5.0\r\n",
      "  Downloading diskcache-5.4.0-py3-none-any.whl (44 kB)\r\n",
      "\u001b[2K     \u001b[90m━━━━━━━━━━━━━━━━━━━━━━━━━━━━━━━━━━━━━━━━\u001b[0m \u001b[32m45.0/45.0 KB\u001b[0m \u001b[31m3.3 MB/s\u001b[0m eta \u001b[36m0:00:00\u001b[0m\r\n",
      "\u001b[?25hCollecting depinfo~=1.7\r\n",
      "  Downloading depinfo-1.7.0-py2.py3-none-any.whl (8.6 kB)\r\n",
      "Requirement already satisfied: numpy~=1.13 in /opt/conda/lib/python3.7/site-packages (from cobra) (1.21.6)\r\n",
      "Collecting optlang~=1.5\r\n",
      "  Downloading optlang-1.5.2-py2.py3-none-any.whl (147 kB)\r\n",
      "\u001b[2K     \u001b[90m━━━━━━━━━━━━━━━━━━━━━━━━━━━━━━━━━━━━━━\u001b[0m \u001b[32m147.7/147.7 KB\u001b[0m \u001b[31m10.6 MB/s\u001b[0m eta \u001b[36m0:00:00\u001b[0m\r\n",
      "\u001b[?25hCollecting python-libsbml~=5.19\r\n",
      "  Downloading python_libsbml-5.19.5-cp37-cp37m-manylinux_2_17_x86_64.manylinux2014_x86_64.whl (6.8 MB)\r\n",
      "\u001b[2K     \u001b[90m━━━━━━━━━━━━━━━━━━━━━━━━━━━━━━━━━━━━━━━━\u001b[0m \u001b[32m6.8/6.8 MB\u001b[0m \u001b[31m57.4 MB/s\u001b[0m eta \u001b[36m0:00:00\u001b[0m\r\n",
      "\u001b[?25hCollecting ruamel.yaml~=0.16\r\n",
      "  Downloading ruamel.yaml-0.17.21-py3-none-any.whl (109 kB)\r\n",
      "\u001b[2K     \u001b[90m━━━━━━━━━━━━━━━━━━━━━━━━━━━━━━━━━━━━━━━\u001b[0m \u001b[32m109.5/109.5 KB\u001b[0m \u001b[31m8.5 MB/s\u001b[0m eta \u001b[36m0:00:00\u001b[0m\r\n",
      "\u001b[?25hRequirement already satisfied: pandas~=1.0 in /opt/conda/lib/python3.7/site-packages (from cobra) (1.3.5)\r\n",
      "Requirement already satisfied: appdirs~=1.4 in /opt/conda/lib/python3.7/site-packages (from cobra) (1.4.4)\r\n",
      "Requirement already satisfied: importlib-resources in /opt/conda/lib/python3.7/site-packages (from cobra) (5.4.0)\r\n",
      "Requirement already satisfied: pydantic~=1.6 in /opt/conda/lib/python3.7/site-packages (from cobra) (1.8.2)\r\n",
      "Collecting swiglpk\r\n",
      "  Downloading swiglpk-5.0.5-cp37-cp37m-manylinux_2_17_x86_64.manylinux2014_x86_64.whl (2.3 MB)\r\n",
      "\u001b[2K     \u001b[90m━━━━━━━━━━━━━━━━━━━━━━━━━━━━━━━━━━━━━━━━\u001b[0m \u001b[32m2.3/2.3 MB\u001b[0m \u001b[31m54.7 MB/s\u001b[0m eta \u001b[36m0:00:00\u001b[0m\r\n",
      "\u001b[?25hRequirement already satisfied: importlib-metadata in /opt/conda/lib/python3.7/site-packages (from depinfo~=1.7->cobra) (4.11.3)\r\n",
      "Collecting httpcore<0.16.0,>=0.15.0\r\n",
      "  Downloading httpcore-0.15.0-py3-none-any.whl (68 kB)\r\n",
      "\u001b[2K     \u001b[90m━━━━━━━━━━━━━━━━━━━━━━━━━━━━━━━━━━━━━━━━\u001b[0m \u001b[32m68.4/68.4 KB\u001b[0m \u001b[31m5.2 MB/s\u001b[0m eta \u001b[36m0:00:00\u001b[0m\r\n",
      "\u001b[?25hCollecting rfc3986[idna2008]<2,>=1.3\r\n",
      "  Downloading rfc3986-1.5.0-py2.py3-none-any.whl (31 kB)\r\n",
      "Requirement already satisfied: sniffio in /opt/conda/lib/python3.7/site-packages (from httpx~=0.14->cobra) (1.2.0)\r\n",
      "Requirement already satisfied: certifi in /opt/conda/lib/python3.7/site-packages (from httpx~=0.14->cobra) (2021.10.8)\r\n",
      "Requirement already satisfied: six>=1.9 in /opt/conda/lib/python3.7/site-packages (from optlang~=1.5->cobra) (1.16.0)\r\n",
      "Requirement already satisfied: sympy>=1.0 in /opt/conda/lib/python3.7/site-packages (from optlang~=1.5->cobra) (1.10.1)\r\n",
      "Requirement already satisfied: python-dateutil>=2.7.3 in /opt/conda/lib/python3.7/site-packages (from pandas~=1.0->cobra) (2.8.2)\r\n",
      "Requirement already satisfied: pytz>=2017.3 in /opt/conda/lib/python3.7/site-packages (from pandas~=1.0->cobra) (2021.3)\r\n",
      "Requirement already satisfied: typing-extensions>=3.7.4.3 in /opt/conda/lib/python3.7/site-packages (from pydantic~=1.6->cobra) (4.2.0)\r\n",
      "Requirement already satisfied: commonmark<0.10.0,>=0.9.0 in /opt/conda/lib/python3.7/site-packages (from rich>=8.0->cobra) (0.9.1)\r\n",
      "Requirement already satisfied: pygments<3.0.0,>=2.6.0 in /opt/conda/lib/python3.7/site-packages (from rich>=8.0->cobra) (2.11.2)\r\n",
      "Collecting ruamel.yaml.clib>=0.2.6\r\n",
      "  Downloading ruamel.yaml.clib-0.2.6-cp37-cp37m-manylinux1_x86_64.whl (546 kB)\r\n",
      "\u001b[2K     \u001b[90m━━━━━━━━━━━━━━━━━━━━━━━━━━━━━━━━━━━━━━\u001b[0m \u001b[32m546.8/546.8 KB\u001b[0m \u001b[31m28.0 MB/s\u001b[0m eta \u001b[36m0:00:00\u001b[0m\r\n",
      "\u001b[?25hRequirement already satisfied: zipp>=3.1.0 in /opt/conda/lib/python3.7/site-packages (from importlib-resources->cobra) (3.7.0)\r\n",
      "Collecting h11<0.13,>=0.11\r\n",
      "  Downloading h11-0.12.0-py3-none-any.whl (54 kB)\r\n",
      "\u001b[2K     \u001b[90m━━━━━━━━━━━━━━━━━━━━━━━━━━━━━━━━━━━━━━━━\u001b[0m \u001b[32m54.9/54.9 KB\u001b[0m \u001b[31m4.7 MB/s\u001b[0m eta \u001b[36m0:00:00\u001b[0m\r\n",
      "\u001b[?25hRequirement already satisfied: anyio==3.* in /opt/conda/lib/python3.7/site-packages (from httpcore<0.16.0,>=0.15.0->httpx~=0.14->cobra) (3.5.0)\r\n",
      "Requirement already satisfied: idna>=2.8 in /opt/conda/lib/python3.7/site-packages (from anyio==3.*->httpcore<0.16.0,>=0.15.0->httpx~=0.14->cobra) (3.3)\r\n",
      "Requirement already satisfied: mpmath>=0.19 in /opt/conda/lib/python3.7/site-packages (from sympy>=1.0->optlang~=1.5->cobra) (1.2.1)\r\n",
      "Installing collected packages: swiglpk, rfc3986, python-libsbml, ruamel.yaml.clib, h11, diskcache, ruamel.yaml, optlang, httpcore, depinfo, httpx, cobra\r\n",
      "  Attempting uninstall: h11\r\n",
      "    Found existing installation: h11 0.13.0\r\n",
      "    Uninstalling h11-0.13.0:\r\n",
      "      Successfully uninstalled h11-0.13.0\r\n",
      "Successfully installed cobra-0.25.0 depinfo-1.7.0 diskcache-5.4.0 h11-0.12.0 httpcore-0.15.0 httpx-0.23.0 optlang-1.5.2 python-libsbml-5.19.5 rfc3986-1.5.0 ruamel.yaml-0.17.21 ruamel.yaml.clib-0.2.6 swiglpk-5.0.5\r\n",
      "\u001b[33mWARNING: Running pip as the 'root' user can result in broken permissions and conflicting behaviour with the system package manager. It is recommended to use a virtual environment instead: https://pip.pypa.io/warnings/venv\u001b[0m\u001b[33m\r\n",
      "\u001b[0m"
     ]
    }
   ],
   "source": [
    "!pip install cobra"
   ]
  },
  {
   "cell_type": "code",
   "execution_count": 3,
   "id": "36adb454",
   "metadata": {
    "execution": {
     "iopub.execute_input": "2022-05-26T14:45:34.470270Z",
     "iopub.status.busy": "2022-05-26T14:45:34.469960Z",
     "iopub.status.idle": "2022-05-26T14:45:36.615249Z",
     "shell.execute_reply": "2022-05-26T14:45:36.614346Z"
    },
    "executionInfo": {
     "elapsed": 1867,
     "status": "ok",
     "timestamp": 1652296140115,
     "user": {
      "displayName": "Shauny Van Hoye",
      "userId": "08131758178470633449"
     },
     "user_tz": -120
    },
    "id": "ZIUuXLvhZ-Jt",
    "papermill": {
     "duration": 2.166605,
     "end_time": "2022-05-26T14:45:36.617712",
     "exception": false,
     "start_time": "2022-05-26T14:45:34.451107",
     "status": "completed"
    },
    "tags": []
   },
   "outputs": [],
   "source": [
    "import re\n",
    "import cobra\n",
    "import numpy as np\n",
    "import time"
   ]
  },
  {
   "cell_type": "code",
   "execution_count": 4,
   "id": "15a5d790",
   "metadata": {
    "execution": {
     "iopub.execute_input": "2022-05-26T14:45:36.653698Z",
     "iopub.status.busy": "2022-05-26T14:45:36.652829Z",
     "iopub.status.idle": "2022-05-26T14:45:36.663307Z",
     "shell.execute_reply": "2022-05-26T14:45:36.662341Z"
    },
    "executionInfo": {
     "elapsed": 25,
     "status": "ok",
     "timestamp": 1652296140117,
     "user": {
      "displayName": "Shauny Van Hoye",
      "userId": "08131758178470633449"
     },
     "user_tz": -120
    },
    "id": "ohiyEx80aB-C",
    "papermill": {
     "duration": 0.030476,
     "end_time": "2022-05-26T14:45:36.665103",
     "exception": false,
     "start_time": "2022-05-26T14:45:36.634627",
     "status": "completed"
    },
    "tags": []
   },
   "outputs": [],
   "source": [
    "def metabolism(gene):\n",
    "\n",
    "    # Ecocyc\n",
    "\n",
    "    ecocyc = open(\"../input/mt-data/ecocyc.gaf\")\n",
    "\n",
    "    go_codes = []\n",
    "\n",
    "    for line in ecocyc:\n",
    "            \n",
    "        l = line.strip()\n",
    "\n",
    "        if re.search(gene, l):\n",
    "\n",
    "            s = re.search('GO:([0-9]{7})', l)\n",
    "\n",
    "            go_codes.append(s.group(1))\n",
    "\n",
    "            \n",
    "    # GO\n",
    "\n",
    "    key = 0\n",
    "\n",
    "    sugar = 0\n",
    "\n",
    "    carbohydrate = 0\n",
    "\n",
    "    nucleotide = 0\n",
    "\n",
    "    lipid = 0\n",
    "\n",
    "    AA = 0\n",
    "\n",
    "    for code in go_codes:\n",
    "\n",
    "        GO = open(\"../input/mt-data/go.obo\")\n",
    "\n",
    "        for line in GO:\n",
    "                \n",
    "            l = line.strip()\n",
    "\n",
    "            if re.match('^id:',l):\n",
    "\n",
    "                if re.search(code, l):\n",
    "                    \n",
    "                    key = 1\n",
    "\n",
    "                else:\n",
    "\n",
    "                    key = 0\n",
    "\n",
    "            if key == 1:\n",
    "\n",
    "                #print(l)\n",
    "\n",
    "                if re.search('sugar', l):\n",
    "\n",
    "                    sugar += 1\n",
    "                    \n",
    "                if re.search('carbohydrate', l):\n",
    "\n",
    "                    carbohydrate += 1\n",
    "\n",
    "                if re.search('nucleotide', l):\n",
    "                        \n",
    "                    nucleotide += 1   \n",
    "\n",
    "                if re.search('lipid', l):\n",
    "                            \n",
    "                    lipid += 1 \n",
    "\n",
    "                if re.search('amino acid', l):\n",
    "                        \n",
    "                    AA += 1         \n",
    "\n",
    "\n",
    "    return sugar, carbohydrate, nucleotide, lipid, AA"
   ]
  },
  {
   "cell_type": "code",
   "execution_count": 5,
   "id": "7284a0f2",
   "metadata": {
    "execution": {
     "iopub.execute_input": "2022-05-26T14:45:36.699926Z",
     "iopub.status.busy": "2022-05-26T14:45:36.699528Z",
     "iopub.status.idle": "2022-05-26T14:45:36.703231Z",
     "shell.execute_reply": "2022-05-26T14:45:36.702727Z"
    },
    "executionInfo": {
     "elapsed": 22,
     "status": "ok",
     "timestamp": 1652296140119,
     "user": {
      "displayName": "Shauny Van Hoye",
      "userId": "08131758178470633449"
     },
     "user_tz": -120
    },
    "id": "KTHmVpifaN7s",
    "papermill": {
     "duration": 0.023362,
     "end_time": "2022-05-26T14:45:36.704971",
     "exception": false,
     "start_time": "2022-05-26T14:45:36.681609",
     "status": "completed"
    },
    "tags": []
   },
   "outputs": [],
   "source": [
    "# Test 1\n",
    "\n",
    "# t0 = time.time()\n",
    "\n",
    "# genes = ['b1101', 'b1603', 'b3612', 'b3956', 'b3919']\n",
    "\n",
    "# for gene in genes:\n",
    "\n",
    "    # sugar, carbohydrate, nucleotide, lipid, AA = metabolism(gene)\n",
    "\n",
    "    # print(sugar, carbohydrate, nucleotide, lipid, AA)\n",
    "\n",
    "# t1 = time.time()\n",
    "\n",
    "# total = t1-t0\n",
    "\n",
    "# print(total)"
   ]
  },
  {
   "cell_type": "code",
   "execution_count": 6,
   "id": "cc98e778",
   "metadata": {
    "execution": {
     "iopub.execute_input": "2022-05-26T14:45:36.739671Z",
     "iopub.status.busy": "2022-05-26T14:45:36.739254Z",
     "iopub.status.idle": "2022-05-26T14:45:39.286115Z",
     "shell.execute_reply": "2022-05-26T14:45:39.284962Z"
    },
    "executionInfo": {
     "elapsed": 7695,
     "status": "ok",
     "timestamp": 1652296147795,
     "user": {
      "displayName": "Shauny Van Hoye",
      "userId": "08131758178470633449"
     },
     "user_tz": -120
    },
    "id": "eJKLeECgde2s",
    "papermill": {
     "duration": 2.568143,
     "end_time": "2022-05-26T14:45:39.289614",
     "exception": false,
     "start_time": "2022-05-26T14:45:36.721471",
     "status": "completed"
    },
    "tags": []
   },
   "outputs": [
    {
     "name": "stdout",
     "output_type": "stream",
     "text": [
      "Scaling...\n",
      " A: min|aij| =  1.000e+00  max|aij| =  1.000e+00  ratio =  1.000e+00\n",
      "Problem data seem to be well scaled\n",
      "909\n"
     ]
    }
   ],
   "source": [
    "# The next code block goes over all the genes in the iJR904 model and makes use of the ecocyc and \n",
    "# go database to determine which type of metabolism each gene is correlated with. This code only has to \n",
    "# be run once, afterwards, the results are saved in separate files which are in turn used to determine the \n",
    "# niches in the Map-Elites algorithm.\n",
    "\n",
    "# Load the iJR904 E. coli GEM\n",
    "\n",
    "e_coli_flavanone_from_iJR904 = cobra.io.read_sbml_model(\"../input/mt-data/e_coli_flavanone_from_iJR904.xml\")\n",
    "\n",
    "number_of_genes = len(e_coli_flavanone_from_iJR904.genes)\n",
    "\n",
    "print(number_of_genes)\n",
    "\n",
    "sugar = np.zeros(number_of_genes) \n",
    "\n",
    "carbohydrate = np.zeros(number_of_genes) \n",
    "\n",
    "nucleotide = np.zeros(number_of_genes) \n",
    "\n",
    "lipid = np.zeros(number_of_genes) \n",
    "\n",
    "AA = np.zeros(number_of_genes) "
   ]
  },
  {
   "cell_type": "code",
   "execution_count": 7,
   "id": "9ddcfb30",
   "metadata": {
    "execution": {
     "iopub.execute_input": "2022-05-26T14:45:39.327693Z",
     "iopub.status.busy": "2022-05-26T14:45:39.327068Z",
     "iopub.status.idle": "2022-05-26T18:14:35.592859Z",
     "shell.execute_reply": "2022-05-26T18:14:35.591794Z"
    },
    "id": "Mcim7uohZEX-",
    "papermill": {
     "duration": 12536.287803,
     "end_time": "2022-05-26T18:14:35.595815",
     "exception": false,
     "start_time": "2022-05-26T14:45:39.308012",
     "status": "completed"
    },
    "tags": []
   },
   "outputs": [],
   "source": [
    "for i in range(0,number_of_genes):\n",
    "\n",
    "    gene = e_coli_flavanone_from_iJR904.genes[i]\n",
    "    \n",
    "    sugar[i], carbohydrate[i], nucleotide[i], lipid[i], AA[i] = metabolism(str(gene))\n",
    "\n",
    "np.save(\"./sugar_iJR904_flav\", sugar)\n",
    "\n",
    "np.save(\"./carbohydrate_iJR904_flav\", carbohydrate)\n",
    "\n",
    "np.save(\"./nucleotide_iJR904_flav\", nucleotide)\n",
    "\n",
    "np.save(\"./lipid_iJR904_flav\", lipid)\n",
    "\n",
    "np.save(\"./AA_iJR904_flav\", AA)"
   ]
  }
 ],
 "metadata": {
  "kernelspec": {
   "display_name": "Python 3",
   "language": "python",
   "name": "python3"
  },
  "language_info": {
   "codemirror_mode": {
    "name": "ipython",
    "version": 3
   },
   "file_extension": ".py",
   "mimetype": "text/x-python",
   "name": "python",
   "nbconvert_exporter": "python",
   "pygments_lexer": "ipython3",
   "version": "3.7.12"
  },
  "papermill": {
   "default_parameters": {},
   "duration": 12565.587852,
   "end_time": "2022-05-26T18:14:36.961237",
   "environment_variables": {},
   "exception": null,
   "input_path": "__notebook__.ipynb",
   "output_path": "__notebook__.ipynb",
   "parameters": {},
   "start_time": "2022-05-26T14:45:11.373385",
   "version": "2.3.4"
  }
 },
 "nbformat": 4,
 "nbformat_minor": 5
}
