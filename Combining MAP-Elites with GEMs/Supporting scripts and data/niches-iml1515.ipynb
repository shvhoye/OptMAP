{
 "cells": [
  {
   "cell_type": "code",
   "execution_count": 1,
   "id": "a7337d02",
   "metadata": {
    "execution": {
     "iopub.execute_input": "2022-05-15T10:48:34.997057Z",
     "iopub.status.busy": "2022-05-15T10:48:34.996341Z",
     "iopub.status.idle": "2022-05-15T10:48:35.002389Z",
     "shell.execute_reply": "2022-05-15T10:48:35.001542Z"
    },
    "executionInfo": {
     "elapsed": 237,
     "status": "ok",
     "timestamp": 1652296134626,
     "user": {
      "displayName": "Shauny Van Hoye",
      "userId": "08131758178470633449"
     },
     "user_tz": -120
    },
    "id": "o21YmGhAZJQq",
    "papermill": {
     "duration": 0.020683,
     "end_time": "2022-05-15T10:48:35.005026",
     "exception": false,
     "start_time": "2022-05-15T10:48:34.984343",
     "status": "completed"
    },
    "tags": []
   },
   "outputs": [],
   "source": [
    "# Matching genes that are knocked out to the type of metabolism they are part of to ascribe them to a specific niche\n",
    "# - Author: Shauny Van Hoye\n",
    "# - Date: 2022-05-07"
   ]
  },
  {
   "cell_type": "code",
   "execution_count": 2,
   "id": "4fb6dc8e",
   "metadata": {
    "execution": {
     "iopub.execute_input": "2022-05-15T10:48:35.026332Z",
     "iopub.status.busy": "2022-05-15T10:48:35.025916Z",
     "iopub.status.idle": "2022-05-15T10:48:51.357490Z",
     "shell.execute_reply": "2022-05-15T10:48:51.356691Z"
    },
    "id": "WZSRKa0kaahl",
    "papermill": {
     "duration": 16.344485,
     "end_time": "2022-05-15T10:48:51.359757",
     "exception": false,
     "start_time": "2022-05-15T10:48:35.015272",
     "status": "completed"
    },
    "tags": []
   },
   "outputs": [
    {
     "name": "stdout",
     "output_type": "stream",
     "text": [
      "Collecting cobra\r\n",
      "  Downloading cobra-0.25.0-py2.py3-none-any.whl (1.2 MB)\r\n",
      "\u001b[2K     \u001b[90m━━━━━━━━━━━━━━━━━━━━━━━━━━━━━━━━━━━━━━━━\u001b[0m \u001b[32m1.2/1.2 MB\u001b[0m \u001b[31m16.5 MB/s\u001b[0m eta \u001b[36m0:00:00\u001b[0m\r\n",
      "\u001b[?25hRequirement already satisfied: appdirs~=1.4 in /opt/conda/lib/python3.7/site-packages (from cobra) (1.4.4)\r\n",
      "Collecting python-libsbml~=5.19\r\n",
      "  Downloading python_libsbml-5.19.5-cp37-cp37m-manylinux_2_17_x86_64.manylinux2014_x86_64.whl (6.8 MB)\r\n",
      "\u001b[2K     \u001b[90m━━━━━━━━━━━━━━━━━━━━━━━━━━━━━━━━━━━━━━━━\u001b[0m \u001b[32m6.8/6.8 MB\u001b[0m \u001b[31m61.4 MB/s\u001b[0m eta \u001b[36m0:00:00\u001b[0m\r\n",
      "\u001b[?25hCollecting ruamel.yaml~=0.16\r\n",
      "  Downloading ruamel.yaml-0.17.21-py3-none-any.whl (109 kB)\r\n",
      "\u001b[2K     \u001b[90m━━━━━━━━━━━━━━━━━━━━━━━━━━━━━━━━━━━━━━━\u001b[0m \u001b[32m109.5/109.5 KB\u001b[0m \u001b[31m8.7 MB/s\u001b[0m eta \u001b[36m0:00:00\u001b[0m\r\n",
      "\u001b[?25hCollecting depinfo~=1.7\r\n",
      "  Downloading depinfo-1.7.0-py2.py3-none-any.whl (8.6 kB)\r\n",
      "Requirement already satisfied: pydantic~=1.6 in /opt/conda/lib/python3.7/site-packages (from cobra) (1.8.2)\r\n",
      "Collecting diskcache~=5.0\r\n",
      "  Downloading diskcache-5.4.0-py3-none-any.whl (44 kB)\r\n",
      "\u001b[2K     \u001b[90m━━━━━━━━━━━━━━━━━━━━━━━━━━━━━━━━━━━━━━━━\u001b[0m \u001b[32m45.0/45.0 KB\u001b[0m \u001b[31m3.6 MB/s\u001b[0m eta \u001b[36m0:00:00\u001b[0m\r\n",
      "\u001b[?25hCollecting swiglpk\r\n",
      "  Downloading swiglpk-5.0.5-cp37-cp37m-manylinux_2_17_x86_64.manylinux2014_x86_64.whl (2.3 MB)\r\n",
      "\u001b[2K     \u001b[90m━━━━━━━━━━━━━━━━━━━━━━━━━━━━━━━━━━━━━━━━\u001b[0m \u001b[32m2.3/2.3 MB\u001b[0m \u001b[31m59.7 MB/s\u001b[0m eta \u001b[36m0:00:00\u001b[0m\r\n",
      "\u001b[?25hRequirement already satisfied: rich>=8.0 in /opt/conda/lib/python3.7/site-packages (from cobra) (12.2.0)\r\n",
      "Requirement already satisfied: pandas~=1.0 in /opt/conda/lib/python3.7/site-packages (from cobra) (1.3.5)\r\n",
      "Requirement already satisfied: future in /opt/conda/lib/python3.7/site-packages (from cobra) (0.18.2)\r\n",
      "Requirement already satisfied: numpy~=1.13 in /opt/conda/lib/python3.7/site-packages (from cobra) (1.21.6)\r\n",
      "Collecting optlang~=1.5\r\n",
      "  Downloading optlang-1.5.2-py2.py3-none-any.whl (147 kB)\r\n",
      "\u001b[2K     \u001b[90m━━━━━━━━━━━━━━━━━━━━━━━━━━━━━━━━━━━━━━\u001b[0m \u001b[32m147.7/147.7 KB\u001b[0m \u001b[31m11.6 MB/s\u001b[0m eta \u001b[36m0:00:00\u001b[0m\r\n",
      "\u001b[?25hRequirement already satisfied: importlib-resources in /opt/conda/lib/python3.7/site-packages (from cobra) (5.4.0)\r\n",
      "Collecting httpx~=0.14\r\n",
      "  Downloading httpx-0.22.0-py3-none-any.whl (84 kB)\r\n",
      "\u001b[2K     \u001b[90m━━━━━━━━━━━━━━━━━━━━━━━━━━━━━━━━━━━━━━━━\u001b[0m \u001b[32m84.2/84.2 KB\u001b[0m \u001b[31m6.7 MB/s\u001b[0m eta \u001b[36m0:00:00\u001b[0m\r\n",
      "\u001b[?25hRequirement already satisfied: importlib-metadata in /opt/conda/lib/python3.7/site-packages (from depinfo~=1.7->cobra) (4.11.3)\r\n",
      "Collecting httpcore<0.15.0,>=0.14.5\r\n",
      "  Downloading httpcore-0.14.7-py3-none-any.whl (68 kB)\r\n",
      "\u001b[2K     \u001b[90m━━━━━━━━━━━━━━━━━━━━━━━━━━━━━━━━━━━━━━━━\u001b[0m \u001b[32m68.3/68.3 KB\u001b[0m \u001b[31m5.1 MB/s\u001b[0m eta \u001b[36m0:00:00\u001b[0m\r\n",
      "\u001b[?25hRequirement already satisfied: charset-normalizer in /opt/conda/lib/python3.7/site-packages (from httpx~=0.14->cobra) (2.0.12)\r\n",
      "Collecting rfc3986[idna2008]<2,>=1.3\r\n",
      "  Downloading rfc3986-1.5.0-py2.py3-none-any.whl (31 kB)\r\n",
      "Requirement already satisfied: certifi in /opt/conda/lib/python3.7/site-packages (from httpx~=0.14->cobra) (2021.10.8)\r\n",
      "Requirement already satisfied: sniffio in /opt/conda/lib/python3.7/site-packages (from httpx~=0.14->cobra) (1.2.0)\r\n",
      "Requirement already satisfied: sympy>=1.0 in /opt/conda/lib/python3.7/site-packages (from optlang~=1.5->cobra) (1.10.1)\r\n",
      "Requirement already satisfied: six>=1.9 in /opt/conda/lib/python3.7/site-packages (from optlang~=1.5->cobra) (1.16.0)\r\n",
      "Requirement already satisfied: python-dateutil>=2.7.3 in /opt/conda/lib/python3.7/site-packages (from pandas~=1.0->cobra) (2.8.2)\r\n",
      "Requirement already satisfied: pytz>=2017.3 in /opt/conda/lib/python3.7/site-packages (from pandas~=1.0->cobra) (2021.3)\r\n",
      "Requirement already satisfied: typing-extensions>=3.7.4.3 in /opt/conda/lib/python3.7/site-packages (from pydantic~=1.6->cobra) (4.2.0)\r\n",
      "Requirement already satisfied: commonmark<0.10.0,>=0.9.0 in /opt/conda/lib/python3.7/site-packages (from rich>=8.0->cobra) (0.9.1)\r\n",
      "Requirement already satisfied: pygments<3.0.0,>=2.6.0 in /opt/conda/lib/python3.7/site-packages (from rich>=8.0->cobra) (2.11.2)\r\n",
      "Collecting ruamel.yaml.clib>=0.2.6\r\n",
      "  Downloading ruamel.yaml.clib-0.2.6-cp37-cp37m-manylinux1_x86_64.whl (546 kB)\r\n",
      "\u001b[2K     \u001b[90m━━━━━━━━━━━━━━━━━━━━━━━━━━━━━━━━━━━━━━\u001b[0m \u001b[32m546.8/546.8 KB\u001b[0m \u001b[31m31.2 MB/s\u001b[0m eta \u001b[36m0:00:00\u001b[0m\r\n",
      "\u001b[?25hRequirement already satisfied: zipp>=3.1.0 in /opt/conda/lib/python3.7/site-packages (from importlib-resources->cobra) (3.7.0)\r\n",
      "Requirement already satisfied: anyio==3.* in /opt/conda/lib/python3.7/site-packages (from httpcore<0.15.0,>=0.14.5->httpx~=0.14->cobra) (3.5.0)\r\n",
      "Collecting h11<0.13,>=0.11\r\n",
      "  Downloading h11-0.12.0-py3-none-any.whl (54 kB)\r\n",
      "\u001b[2K     \u001b[90m━━━━━━━━━━━━━━━━━━━━━━━━━━━━━━━━━━━━━━━━\u001b[0m \u001b[32m54.9/54.9 KB\u001b[0m \u001b[31m4.6 MB/s\u001b[0m eta \u001b[36m0:00:00\u001b[0m\r\n",
      "\u001b[?25hRequirement already satisfied: idna>=2.8 in /opt/conda/lib/python3.7/site-packages (from anyio==3.*->httpcore<0.15.0,>=0.14.5->httpx~=0.14->cobra) (3.3)\r\n",
      "Requirement already satisfied: mpmath>=0.19 in /opt/conda/lib/python3.7/site-packages (from sympy>=1.0->optlang~=1.5->cobra) (1.2.1)\r\n",
      "Installing collected packages: swiglpk, rfc3986, python-libsbml, ruamel.yaml.clib, h11, diskcache, ruamel.yaml, optlang, httpcore, depinfo, httpx, cobra\r\n",
      "  Attempting uninstall: h11\r\n",
      "    Found existing installation: h11 0.13.0\r\n",
      "    Uninstalling h11-0.13.0:\r\n",
      "      Successfully uninstalled h11-0.13.0\r\n",
      "Successfully installed cobra-0.25.0 depinfo-1.7.0 diskcache-5.4.0 h11-0.12.0 httpcore-0.14.7 httpx-0.22.0 optlang-1.5.2 python-libsbml-5.19.5 rfc3986-1.5.0 ruamel.yaml-0.17.21 ruamel.yaml.clib-0.2.6 swiglpk-5.0.5\r\n",
      "\u001b[33mWARNING: Running pip as the 'root' user can result in broken permissions and conflicting behaviour with the system package manager. It is recommended to use a virtual environment instead: https://pip.pypa.io/warnings/venv\u001b[0m\u001b[33m\r\n",
      "\u001b[0m"
     ]
    }
   ],
   "source": [
    "!pip install cobra"
   ]
  },
  {
   "cell_type": "code",
   "execution_count": 3,
   "id": "cfae507f",
   "metadata": {
    "execution": {
     "iopub.execute_input": "2022-05-15T10:48:51.405920Z",
     "iopub.status.busy": "2022-05-15T10:48:51.405585Z",
     "iopub.status.idle": "2022-05-15T10:48:53.635839Z",
     "shell.execute_reply": "2022-05-15T10:48:53.634947Z"
    },
    "executionInfo": {
     "elapsed": 1867,
     "status": "ok",
     "timestamp": 1652296140115,
     "user": {
      "displayName": "Shauny Van Hoye",
      "userId": "08131758178470633449"
     },
     "user_tz": -120
    },
    "id": "ZIUuXLvhZ-Jt",
    "papermill": {
     "duration": 2.256229,
     "end_time": "2022-05-15T10:48:53.638347",
     "exception": false,
     "start_time": "2022-05-15T10:48:51.382118",
     "status": "completed"
    },
    "tags": []
   },
   "outputs": [],
   "source": [
    "import re\n",
    "import cobra\n",
    "import numpy as np\n",
    "import time"
   ]
  },
  {
   "cell_type": "code",
   "execution_count": 4,
   "id": "fd3d7f45",
   "metadata": {
    "execution": {
     "iopub.execute_input": "2022-05-15T10:48:53.685275Z",
     "iopub.status.busy": "2022-05-15T10:48:53.684955Z",
     "iopub.status.idle": "2022-05-15T10:48:53.696962Z",
     "shell.execute_reply": "2022-05-15T10:48:53.696054Z"
    },
    "executionInfo": {
     "elapsed": 25,
     "status": "ok",
     "timestamp": 1652296140117,
     "user": {
      "displayName": "Shauny Van Hoye",
      "userId": "08131758178470633449"
     },
     "user_tz": -120
    },
    "id": "ohiyEx80aB-C",
    "papermill": {
     "duration": 0.03726,
     "end_time": "2022-05-15T10:48:53.698947",
     "exception": false,
     "start_time": "2022-05-15T10:48:53.661687",
     "status": "completed"
    },
    "tags": []
   },
   "outputs": [],
   "source": [
    "def metabolism(gene):\n",
    "\n",
    "    # Ecocyc\n",
    "\n",
    "    ecocyc = open(\"../input/mt-data/ecocyc.gaf\")\n",
    "\n",
    "    go_codes = []\n",
    "\n",
    "    for line in ecocyc:\n",
    "            \n",
    "        l = line.strip()\n",
    "\n",
    "        if re.search(gene, l):\n",
    "\n",
    "            s = re.search('GO:([0-9]{7})', l)\n",
    "\n",
    "            go_codes.append(s.group(1))\n",
    "\n",
    "            \n",
    "    # GO\n",
    "\n",
    "    key = 0\n",
    "\n",
    "    sugar = 0\n",
    "\n",
    "    carbohydrate = 0\n",
    "\n",
    "    nucleotide = 0\n",
    "\n",
    "    lipid = 0\n",
    "\n",
    "    AA = 0\n",
    "\n",
    "    for code in go_codes:\n",
    "\n",
    "        GO = open(\"../input/mt-data/go.obo\")\n",
    "\n",
    "        for line in GO:\n",
    "                \n",
    "            l = line.strip()\n",
    "\n",
    "            if re.match('^id:',l):\n",
    "\n",
    "                if re.search(code, l):\n",
    "                    \n",
    "                    key = 1\n",
    "\n",
    "                else:\n",
    "\n",
    "                    key = 0\n",
    "\n",
    "            if key == 1:\n",
    "\n",
    "                #print(l)\n",
    "\n",
    "                if re.search('sugar', l):\n",
    "\n",
    "                    sugar += 1\n",
    "                    \n",
    "                if re.search('carbohydrate', l):\n",
    "\n",
    "                    carbohydrate += 1\n",
    "\n",
    "                if re.search('nucleotide', l):\n",
    "                        \n",
    "                    nucleotide += 1   \n",
    "\n",
    "                if re.search('lipid', l):\n",
    "                            \n",
    "                    lipid += 1 \n",
    "\n",
    "                if re.search('amino acid', l):\n",
    "                        \n",
    "                    AA += 1         \n",
    "\n",
    "\n",
    "    return sugar, carbohydrate, nucleotide, lipid, AA"
   ]
  },
  {
   "cell_type": "code",
   "execution_count": 5,
   "id": "592924c5",
   "metadata": {
    "execution": {
     "iopub.execute_input": "2022-05-15T10:48:53.744790Z",
     "iopub.status.busy": "2022-05-15T10:48:53.744507Z",
     "iopub.status.idle": "2022-05-15T10:48:53.748293Z",
     "shell.execute_reply": "2022-05-15T10:48:53.747323Z"
    },
    "executionInfo": {
     "elapsed": 22,
     "status": "ok",
     "timestamp": 1652296140119,
     "user": {
      "displayName": "Shauny Van Hoye",
      "userId": "08131758178470633449"
     },
     "user_tz": -120
    },
    "id": "KTHmVpifaN7s",
    "papermill": {
     "duration": 0.029027,
     "end_time": "2022-05-15T10:48:53.750290",
     "exception": false,
     "start_time": "2022-05-15T10:48:53.721263",
     "status": "completed"
    },
    "tags": []
   },
   "outputs": [],
   "source": [
    "# Test 1\n",
    "\n",
    "# t0 = time.time()\n",
    "\n",
    "# genes = ['b1101', 'b1603', 'b3612', 'b3956', 'b3919']\n",
    "\n",
    "# for gene in genes:\n",
    "\n",
    "    # sugar, carbohydrate, nucleotide, lipid, AA = metabolism(gene)\n",
    "\n",
    "    # print(sugar, carbohydrate, nucleotide, lipid, AA)\n",
    "\n",
    "# t1 = time.time()\n",
    "\n",
    "# total = t1-t0\n",
    "\n",
    "# print(total)"
   ]
  },
  {
   "cell_type": "code",
   "execution_count": 6,
   "id": "8c62ef04",
   "metadata": {
    "execution": {
     "iopub.execute_input": "2022-05-15T10:48:53.796419Z",
     "iopub.status.busy": "2022-05-15T10:48:53.796018Z",
     "iopub.status.idle": "2022-05-15T10:48:59.798675Z",
     "shell.execute_reply": "2022-05-15T10:48:59.797681Z"
    },
    "executionInfo": {
     "elapsed": 7695,
     "status": "ok",
     "timestamp": 1652296147795,
     "user": {
      "displayName": "Shauny Van Hoye",
      "userId": "08131758178470633449"
     },
     "user_tz": -120
    },
    "id": "eJKLeECgde2s",
    "papermill": {
     "duration": 6.028316,
     "end_time": "2022-05-15T10:48:59.801223",
     "exception": false,
     "start_time": "2022-05-15T10:48:53.772907",
     "status": "completed"
    },
    "tags": []
   },
   "outputs": [
    {
     "name": "stdout",
     "output_type": "stream",
     "text": [
      "Scaling...\n",
      " A: min|aij| =  1.000e+00  max|aij| =  1.000e+00  ratio =  1.000e+00\n",
      "Problem data seem to be well scaled\n",
      "1516\n"
     ]
    }
   ],
   "source": [
    "# The next code block goes over all the genes in the iML1515 model and makes use of the ecocyc and \n",
    "# go database to determine which type of metabolism each gene is correlated with. This code only has to \n",
    "# be run once, afterwards, the results are saved in separate files which are in turn used to determine the \n",
    "# niches in the Map-Elites algorithm.\n",
    "\n",
    "# Load the iML1515 E. coli GEM\n",
    "\n",
    "e_coli_iML1515 = cobra.io.read_sbml_model(\"../input/mt-data/iML1515.xml\")\n",
    "\n",
    "number_of_genes = len(e_coli_iML1515.genes)\n",
    "\n",
    "print(number_of_genes)\n",
    "\n",
    "sugar = np.zeros(number_of_genes) \n",
    "\n",
    "carbohydrate = np.zeros(number_of_genes) \n",
    "\n",
    "nucleotide = np.zeros(number_of_genes) \n",
    "\n",
    "lipid = np.zeros(number_of_genes) \n",
    "\n",
    "AA = np.zeros(number_of_genes) "
   ]
  },
  {
   "cell_type": "code",
   "execution_count": 7,
   "id": "ef081e02",
   "metadata": {
    "execution": {
     "iopub.execute_input": "2022-05-15T10:48:59.849320Z",
     "iopub.status.busy": "2022-05-15T10:48:59.848676Z",
     "iopub.status.idle": "2022-05-15T18:52:44.812236Z",
     "shell.execute_reply": "2022-05-15T18:52:44.811217Z"
    },
    "id": "Mcim7uohZEX-",
    "papermill": {
     "duration": 29024.9902,
     "end_time": "2022-05-15T18:52:44.814967",
     "exception": false,
     "start_time": "2022-05-15T10:48:59.824767",
     "status": "completed"
    },
    "tags": []
   },
   "outputs": [],
   "source": [
    "for i in range(0,number_of_genes):\n",
    "\n",
    "    gene = e_coli_iML1515.genes[i]\n",
    "    \n",
    "    sugar[i], carbohydrate[i], nucleotide[i], lipid[i], AA[i] = metabolism(str(gene))\n",
    "\n",
    "\n",
    "np.save(\"./sugar_iML1515\", sugar)\n",
    "\n",
    "np.save(\"./carbohydrate_iML1515\", carbohydrate)\n",
    "\n",
    "np.save(\"./nucleotide_iML1515\", nucleotide)\n",
    "\n",
    "np.save(\"./lipid_iML1515\", lipid)\n",
    "\n",
    "np.save(\"./AA_iML1515\", AA)"
   ]
  }
 ],
 "metadata": {
  "kernelspec": {
   "display_name": "Python 3",
   "language": "python",
   "name": "python3"
  },
  "language_info": {
   "codemirror_mode": {
    "name": "ipython",
    "version": 3
   },
   "file_extension": ".py",
   "mimetype": "text/x-python",
   "name": "python",
   "nbconvert_exporter": "python",
   "pygments_lexer": "ipython3",
   "version": "3.7.12"
  },
  "papermill": {
   "default_parameters": {},
   "duration": 29060.742235,
   "end_time": "2022-05-15T18:52:46.024720",
   "environment_variables": {},
   "exception": null,
   "input_path": "__notebook__.ipynb",
   "output_path": "__notebook__.ipynb",
   "parameters": {},
   "start_time": "2022-05-15T10:48:25.282485",
   "version": "2.3.4"
  }
 },
 "nbformat": 4,
 "nbformat_minor": 5
}
