{
 "cells": [
  {
   "cell_type": "code",
   "execution_count": 1,
   "metadata": {},
   "outputs": [],
   "source": [
    "# succ\n",
    "\n",
    "import numpy as np\n",
    "import pandas as pd\n",
    "\n",
    "data = pd.read_csv(\"/Users/Shaun/Documents/School/2021 - 2022/Sem 2/a. Master thesis/Programming/Master Thesis/Combining ME with GEMs/Results and Figures/OptGene_results_succ.csv\")\n",
    "\n",
    "data = data.drop(columns=[\"size\", \"fva_min\", \"fva_max\", \"yield\"])\n",
    "\n",
    "data.insert(0, \"Solution\", ['1', '2', '3', '4'], True)\n",
    "\n",
    "data2 = pd.read_csv(\"/Users/Shaun/Documents/School/2021 - 2022/Sem 2/a. Master thesis/Programming/Master Thesis/Combining ME with GEMs/Results and Figures/OptMAP_results_succ.csv\")"
   ]
  },
  {
   "cell_type": "code",
   "execution_count": 6,
   "metadata": {},
   "outputs": [],
   "source": [
    "# flavanones\n",
    "\n",
    "import numpy as np\n",
    "import pandas as pd\n",
    "\n",
    "data = pd.read_csv(\"/Users/Shaun/Documents/School/2021 - 2022/Sem 2/a. Master thesis/Programming/Master Thesis/Combining ME with GEMs/Results and Figures/OptGene_results_accoac.csv\")\n",
    "\n",
    "data = data.drop(columns=[\"size\", \"fva_min\", \"fva_max\", \"yield\"])\n",
    "\n",
    "data.insert(0, \"Solution\", ['1'], True)\n",
    "\n",
    "data2 = pd.read_csv(\"/Users/Shaun/Documents/School/2021 - 2022/Sem 2/a. Master thesis/Programming/Master Thesis/Combining ME with GEMs/Results and Figures/OptMAP_results_accoac.csv\")"
   ]
  },
  {
   "cell_type": "code",
   "execution_count": 4,
   "metadata": {},
   "outputs": [],
   "source": [
    "# acetate\n",
    "\n",
    "import numpy as np\n",
    "import pandas as pd\n",
    "\n",
    "data = pd.read_csv(\"/Users/Shaun/Documents/School/2021 - 2022/Sem 2/a. Master thesis/Programming/Master Thesis/Combining ME with GEMs/Results and Figures/OptGene_results_ac2.csv\")\n",
    "data = data.drop(columns=[\"size\", \"fva_min\", \"fva_max\", \"yield\"])\n",
    "\n",
    "data.insert(0, \"Solution\", ['1', '2', '3', '4', '5'], True)\n",
    "\n",
    "data2 = pd.read_csv(\"/Users/Shaun/Documents/School/2021 - 2022/Sem 2/a. Master thesis/Programming/Master Thesis/Combining ME with GEMs/Results and Figures/OptMAP_results_ac.csv\")"
   ]
  },
  {
   "cell_type": "code",
   "execution_count": 5,
   "metadata": {},
   "outputs": [],
   "source": [
    "# etoh\n",
    "\n",
    "import numpy as np\n",
    "import pandas as pd\n",
    "\n",
    "data = pd.read_csv(\"/Users/Shaun/Documents/School/2021 - 2022/Sem 2/a. Master thesis/Programming/Master Thesis/Combining ME with GEMs/Results and Figures/OptGene_results_etoh.csv\")\n",
    "\n",
    "data = data.drop(columns=[\"size\", \"fva_min\", \"fva_max\", \"yield\"])\n",
    "\n",
    "data.insert(0, \"Solution\", ['1', '2', '3', '4', '5', '6', '7', '8', '9', '10'], True)\n",
    "\n",
    "data2 = pd.read_csv(\"/Users/Shaun/Documents/School/2021 - 2022/Sem 2/a. Master thesis/Programming/Master Thesis/Combining ME with GEMs/Results and Figures/OptMAP_results_etoh.csv\")"
   ]
  },
  {
   "cell_type": "code",
   "execution_count": null,
   "metadata": {},
   "outputs": [],
   "source": []
  }
 ],
 "metadata": {
  "interpreter": {
   "hash": "aee8b7b246df8f9039afb4144a1f6fd8d2ca17a180786b69acc140d282b71a49"
  },
  "kernelspec": {
   "display_name": "Python 3.9.1 64-bit",
   "language": "python",
   "name": "python3"
  },
  "language_info": {
   "codemirror_mode": {
    "name": "ipython",
    "version": 3
   },
   "file_extension": ".py",
   "mimetype": "text/x-python",
   "name": "python",
   "nbconvert_exporter": "python",
   "pygments_lexer": "ipython3",
   "version": "3.9.1"
  },
  "orig_nbformat": 4
 },
 "nbformat": 4,
 "nbformat_minor": 2
}
